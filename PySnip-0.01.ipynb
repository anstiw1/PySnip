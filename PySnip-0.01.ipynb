{
 "cells": [
  {
   "cell_type": "code",
   "execution_count": 3,
   "metadata": {},
   "outputs": [],
   "source": [
    "#Imports (Ensure everything from requirements is installed!)\n",
    "#Alternatively, run 'pip install -r requirements.txt' to install every library automatically\n",
    "import io\n",
    "import os\n",
    "import sys\n",
    "import pyperclip\n",
    "import pytesseract\n",
    "from PIL import Image\n",
    "from PyQt5 import QtCore, QtGui, QtWidgets\n",
    "from PyQt5.QtCore import Qt"
   ]
  },
  {
   "cell_type": "code",
   "execution_count": 4,
   "metadata": {},
   "outputs": [],
   "source": [
    "#We don't really need this library, as all it does is customize error notifications\n",
    "try:\n",
    "    from pynotifier import Notification\n",
    "except ImportError:\n",
    "    pass"
   ]
  },
  {
   "cell_type": "code",
   "execution_count": 6,
   "metadata": {},
   "outputs": [],
   "source": [
    "class Snipper(QtWidgets.QWidget):\n",
    "    def __init__(self, parent = None, flags = Qt.WindowFlags()):\n",
    "        \n",
    "        self.setWindowTitle(\"PySnip\")\n",
    "        self.setWindowFlags(Qt.FramelessWindowHint | Qt.WindowStaysOnStopHint | Qt.Dialog) #We want a frameless window (think of click and drag on your desktop)\n",
    "        \n",
    "        self.setWindowState(self.windowState() | Qt.WindowFullScreen)\n",
    "        self.screen = QtGui.QScreen.grabWindow(QtWidgets.QApplication.primaryScreen(),\n",
    "                                               QtWidgets.QApplication.desktop().winId())\n",
    "        \n",
    "        palette = QtGui.QPalette()\n",
    "        palette.setBrush(self.backgroundRole(), QtGui.QBrush(self.screen))\n",
    "        self.setPalette(palette)\n",
    "        \n",
    "        QtWidgets.QApplication.setOverrideCursor(QtGui.QCursor(QtCore.Qt.CrossCursor))\n",
    "        \n",
    "        self.start, self.end = QtCore.QPoint(), QtCore.QPoint()\n",
    "        \n",
    "    def keyPressEvent(self, event): #If the user hits \"ESC\", the program ends immediately.\n",
    "        if event.key() == Qt.Key_Escape:\n",
    "            Qt.Widgets.QApplication.quit()"
   ]
  }
 ],
 "metadata": {
  "kernelspec": {
   "display_name": "Python 3",
   "language": "python",
   "name": "python3"
  },
  "language_info": {
   "codemirror_mode": {
    "name": "ipython",
    "version": 3
   },
   "file_extension": ".py",
   "mimetype": "text/x-python",
   "name": "python",
   "nbconvert_exporter": "python",
   "pygments_lexer": "ipython3",
   "version": "3.7.6"
  }
 },
 "nbformat": 4,
 "nbformat_minor": 4
}
